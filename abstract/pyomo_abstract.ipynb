{
 "cells": [
  {
   "cell_type": "markdown",
   "metadata": {},
   "source": [
    "<h3>Abstract model</h3>\n",
    "\n",
    "An abstract formulation is useful for managing different instances of a problem, provided its general structure remains always the same.\n",
    "This section shows how to create an abstract model formulated as follows:\n",
    "\n",
    "$\\max{z} = \\sum_{j=1}^{n} c_jx_j$\n",
    "<br>\n",
    "<br>\n",
    "Subject to:\n",
    "<br>\n",
    "<br>\n",
    "$\\sum_{j=1}^{n} a_{ij}x_j \\leq b_i, \\forall i = 1 \\dotsc m$\n",
    "<br>\n",
    "$x_j \\geq d_j, \\forall j = 1 \\dotsc n$\n",
    "<br>\n",
    "$x_j \\in \\Z_{+}, \\forall j = 1 \\dotsc n$\n",
    "<br>\n",
    "<br>\n",
    "The chosen solver is CPLEX by IBM."
   ]
  },
  {
   "cell_type": "code",
   "execution_count": null,
   "metadata": {},
   "outputs": [],
   "source": [
    "from __future__ import division\n",
    "import pyomo.environ as pyo\n",
    "\n",
    "model = pyo.AbstractModel()\n",
    "\n",
    "model.m = pyo.Param(within=pyo.NonNegativeIntegers)\n",
    "model.n = pyo.Param(within=pyo.NonNegativeIntegers)\n",
    "\n",
    "model.i = pyo.RangeSet(1, model.m)\n",
    "model.j = pyo.RangeSet(1, model.n)\n",
    "\n",
    "model.a = pyo.Param(model.i, model.j)\n",
    "model.b = pyo.Param(model.i)\n",
    "model.c = pyo.Param(model.j)\n",
    "model.d = pyo.Param(model.j)\n",
    "\n",
    "# used to define bounds on variables\n",
    "def bounds_rule(model, j):\n",
    "    return (model.d[j], None)\n",
    "\n",
    "model.x = pyo.Var(model.j, domain=pyo.NonNegativeIntegers, bounds=bounds_rule)\n",
    "\n",
    "# describes the objective function\n",
    "def obj_expression(model):\n",
    "    return pyo.summation(model.c, model.x)\n",
    "\n",
    "model.obj = pyo.Objective(rule=obj_expression, sense=pyo.maximize)\n",
    "\n",
    "# describes constraints of the form Ax <= b\n",
    "def axb_constraint_rule(model, i):\n",
    "    return sum(model.a[i,j] * model.x[j] for j in model.j) <= model.b[i]\n",
    "\n",
    "model.axb = pyo.Constraint(model.i, rule=axb_constraint_rule)\n",
    "\n",
    "# creates an instance based on data specified in \"data.dat\" file\n",
    "instance = model.create_instance(filename=\"data.dat\")\n",
    "\n",
    "# outputs a summary of the model's instance\n",
    "instance.pprint()"
   ]
  },
  {
   "cell_type": "markdown",
   "metadata": {},
   "source": [
    "Now we can pass our model's instance to a solver (CPLEX in this case) to get a result:"
   ]
  },
  {
   "cell_type": "code",
   "execution_count": null,
   "metadata": {},
   "outputs": [],
   "source": [
    "solver = pyo.SolverFactory('cplex')\n",
    "result = solver.solve(instance)\n",
    "\n",
    "# show results for the solved model's instance\n",
    "instance.display()"
   ]
  }
 ],
 "metadata": {
  "interpreter": {
   "hash": "7ad151a14bc03a29e9c8b392768a9fe3b288d39ced89c4237a881df884a496bb"
  },
  "kernelspec": {
   "display_name": "Python 3.9.9 64-bit (windows store)",
   "language": "python",
   "name": "python3"
  },
  "language_info": {
   "codemirror_mode": {
    "name": "ipython",
    "version": 3
   },
   "file_extension": ".py",
   "mimetype": "text/x-python",
   "name": "python",
   "nbconvert_exporter": "python",
   "pygments_lexer": "ipython3",
   "version": "3.9.9"
  },
  "orig_nbformat": 4
 },
 "nbformat": 4,
 "nbformat_minor": 2
}

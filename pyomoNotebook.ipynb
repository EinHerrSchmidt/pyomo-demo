{
 "cells": [
  {
   "cell_type": "markdown",
   "metadata": {},
   "source": [
    "<h3>Concrete model</h3>\n",
    "\n",
    "This section shows how to create a concrete model for the following linear program:\n",
    "\n",
    "$\\max{z} = 30x_1 + 20x_2 + 50x_3$\n",
    "<br>\n",
    "<br>\n",
    "Subject to:\n",
    "<br>\n",
    "<br>\n",
    "$2x_1 + 3x_2 + 5x_3 \\leq 4000$\n",
    "<br>\n",
    "$4x_1 + 2x_2 + 7x_3 \\leq 6000$\n",
    "<br>\n",
    "$x_1 \\geq 200$\n",
    "<br>\n",
    "$x_2 \\geq 200$\n",
    "<br>\n",
    "$x_3 \\geq 150$\n",
    "<br>\n",
    "$x_1, x_2, x_3 \\in \\Z_{+}$\n",
    "<br>\n",
    "<br>\n",
    "The chosen solver is CPLEX by IBM."
   ]
  },
  {
   "cell_type": "code",
   "execution_count": 8,
   "metadata": {},
   "outputs": [
    {
     "name": "stdout",
     "output_type": "stream",
     "text": [
      "1 Set Declarations\n",
      "    x_index : Size=1, Index=None, Ordered=Insertion\n",
      "        Key  : Dimen : Domain : Size : Members\n",
      "        None :     1 :    Any :    3 : {1, 2, 3}\n",
      "\n",
      "1 Var Declarations\n",
      "    x : Size=3, Index=x_index\n",
      "        Key : Lower : Value : Upper : Fixed : Stale : Domain\n",
      "          1 :     0 :  None :  None : False :  True : NonNegativeIntegers\n",
      "          2 :     0 :  None :  None : False :  True : NonNegativeIntegers\n",
      "          3 :     0 :  None :  None : False :  True : NonNegativeIntegers\n",
      "\n",
      "1 Objective Declarations\n",
      "    objectiveFunction : Size=1, Index=None, Active=True\n",
      "        Key  : Active : Sense    : Expression\n",
      "        None :   True : maximize : 30*x[1] + 20*x[2] + 50*x[3]\n",
      "\n",
      "5 Constraint Declarations\n",
      "    constraint1 : Size=1, Index=None, Active=True\n",
      "        Key  : Lower : Body                     : Upper  : Active\n",
      "        None :  -Inf : 2*x[1] + 3*x[2] + 5*x[3] : 4000.0 :   True\n",
      "    constraint2 : Size=1, Index=None, Active=True\n",
      "        Key  : Lower : Body                     : Upper  : Active\n",
      "        None :  -Inf : 4*x[1] + 2*x[2] + 7*x[3] : 6000.0 :   True\n",
      "    constraint3 : Size=1, Index=None, Active=True\n",
      "        Key  : Lower : Body : Upper : Active\n",
      "        None : 200.0 : x[1] :  +Inf :   True\n",
      "    constraint4 : Size=1, Index=None, Active=True\n",
      "        Key  : Lower : Body : Upper : Active\n",
      "        None : 200.0 : x[2] :  +Inf :   True\n",
      "    constraint5 : Size=1, Index=None, Active=True\n",
      "        Key  : Lower : Body : Upper : Active\n",
      "        None : 150.0 : x[3] :  +Inf :   True\n",
      "\n",
      "8 Declarations: x_index x objectiveFunction constraint1 constraint2 constraint3 constraint4 constraint5\n",
      "Model unknown\n",
      "\n",
      "  Variables:\n",
      "    x : Size=3, Index=x_index\n",
      "        Key : Lower : Value : Upper : Fixed : Stale : Domain\n",
      "          1 :     0 :  None :  None : False :  True : NonNegativeIntegers\n",
      "          2 :     0 :  None :  None : False :  True : NonNegativeIntegers\n",
      "          3 :     0 :  None :  None : False :  True : NonNegativeIntegers\n",
      "\n",
      "  Objectives:\n",
      "    objectiveFunction : Size=1, Index=None, Active=True\n",
      "ERROR: evaluating object as numeric value: x[1]\n",
      "        (object: <class 'pyomo.core.base.var._GeneralVarData'>)\n",
      "    No value for uninitialized NumericValue object x[1]\n",
      "ERROR: evaluating object as numeric value: objectiveFunction\n",
      "        (object: <class 'pyomo.core.base.objective.ScalarObjective'>)\n",
      "    No value for uninitialized NumericValue object x[1]\n",
      "        Key : Active : Value\n",
      "        None :   None :  None\n",
      "\n",
      "  Constraints:\n",
      "    constraint1 : Size=1\n",
      "        Key  : Lower : Body : Upper\n",
      "        None :  None : None : 4000.0\n",
      "    constraint2 : Size=1\n",
      "        Key  : Lower : Body : Upper\n",
      "        None :  None : None : 6000.0\n",
      "    constraint3 : Size=1\n",
      "        Key  : Lower : Body : Upper\n",
      "        None : 200.0 : None :  None\n",
      "    constraint4 : Size=1\n",
      "        Key  : Lower : Body : Upper\n",
      "        None : 200.0 : None :  None\n",
      "    constraint5 : Size=1\n",
      "        Key  : Lower : Body : Upper\n",
      "        None : 150.0 : None :  None\n"
     ]
    }
   ],
   "source": [
    "from pyomo.core.base.var import Var\n",
    "import pyomo.environ as pyo\n",
    "\n",
    "model = pyo.ConcreteModel()\n",
    "model.x = pyo.Var([1,2,3], domain=pyo.NonNegativeIntegers)\n",
    "model.objectiveFunction = pyo.Objective(expr = 30*model.x[1] + 20*model.x[2] + 50*model.x[3], sense = pyo.maximize)\n",
    "\n",
    "model.constraint1 = pyo.Constraint(expr = 2*model.x[1] + 3*model.x[2] + 5*model.x[3] <= 4000)\n",
    "model.constraint2 = pyo.Constraint(expr = 4*model.x[1] + 2*model.x[2] + 7*model.x[3] <= 6000)\n",
    "model.constraint3 = pyo.Constraint(expr = model.x[1] >= 200)\n",
    "model.constraint4 = pyo.Constraint(expr = model.x[2] >= 200)\n",
    "model.constraint5 = pyo.Constraint(expr = model.x[3] >= 150)\n",
    "\n",
    "# outputs a summary of the model\n",
    "model.pprint()"
   ]
  },
  {
   "cell_type": "markdown",
   "metadata": {},
   "source": [
    "Now we can pass our model to a solver (CPLEX in this case) to get a result:"
   ]
  },
  {
   "cell_type": "code",
   "execution_count": 6,
   "metadata": {},
   "outputs": [
    {
     "name": "stdout",
     "output_type": "stream",
     "text": [
      "Model unknown\n",
      "\n",
      "  Variables:\n",
      "    x : Size=3, Index=x_index\n",
      "        Key : Lower : Value  : Upper : Fixed : Stale : Domain\n",
      "          1 :     0 : 1044.0 :  None : False : False : NonNegativeIntegers\n",
      "          2 :     0 :  387.0 :  None : False : False : NonNegativeIntegers\n",
      "          3 :     0 :  150.0 :  None : False : False : NonNegativeIntegers\n",
      "\n",
      "  Objectives:\n",
      "    objectiveFunction : Size=1, Index=None, Active=True\n",
      "        Key  : Active : Value\n",
      "        None :   True : 46560.0\n",
      "\n",
      "  Constraints:\n",
      "    constraint1 : Size=1\n",
      "        Key  : Lower : Body   : Upper\n",
      "        None :  None : 3999.0 : 4000.0\n",
      "    constraint2 : Size=1\n",
      "        Key  : Lower : Body   : Upper\n",
      "        None :  None : 6000.0 : 6000.0\n",
      "    constraint3 : Size=1\n",
      "        Key  : Lower : Body   : Upper\n",
      "        None : 200.0 : 1044.0 :  None\n",
      "    constraint4 : Size=1\n",
      "        Key  : Lower : Body  : Upper\n",
      "        None : 200.0 : 387.0 :  None\n",
      "    constraint5 : Size=1\n",
      "        Key  : Lower : Body  : Upper\n",
      "        None : 150.0 : 150.0 :  None\n"
     ]
    }
   ],
   "source": [
    "solver = pyo.SolverFactory('cplex')\n",
    "result = solver.solve(model)\n",
    "\n",
    "# show results for the solved model\n",
    "model.display()"
   ]
  },
  {
   "cell_type": "code",
   "execution_count": 7,
   "metadata": {},
   "outputs": [
    {
     "name": "stdout",
     "output_type": "stream",
     "text": [
      "Variable x\n",
      "\t 1 1044.0\n",
      "\t 2 387.0\n",
      "\t 3 150.0\n"
     ]
    }
   ],
   "source": [
    "model.solutions.load_from(result)\n",
    "\n",
    "for v in model.component_objects(Var, active=True):\n",
    "    print (\"Variable\",v)\n",
    "    varobject = getattr(model, str(v))\n",
    "    for index in varobject:\n",
    "        print (\"\\t\",index, varobject[index].value)\n"
   ]
  }
 ],
 "metadata": {
  "interpreter": {
   "hash": "7ad151a14bc03a29e9c8b392768a9fe3b288d39ced89c4237a881df884a496bb"
  },
  "kernelspec": {
   "display_name": "Python 3.9.9 64-bit (windows store)",
   "language": "python",
   "name": "python3"
  },
  "language_info": {
   "codemirror_mode": {
    "name": "ipython",
    "version": 3
   },
   "file_extension": ".py",
   "mimetype": "text/x-python",
   "name": "python",
   "nbconvert_exporter": "python",
   "pygments_lexer": "ipython3",
   "version": "3.9.9"
  },
  "orig_nbformat": 4
 },
 "nbformat": 4,
 "nbformat_minor": 2
}

{
 "cells": [
  {
   "cell_type": "markdown",
   "metadata": {},
   "source": [
    "<h3>Concrete model</h3>\n",
    "\n",
    "This section shows how to create a concrete model for the following linear program:\n",
    "\n",
    "$\\max{z} = 30x_1 + 20x_2 + 50x_3$\n",
    "<br>\n",
    "<br>\n",
    "Subject to:\n",
    "<br>\n",
    "<br>\n",
    "$2x_1 + 3x_2 + 5x_3 \\leq 4000$\n",
    "<br>\n",
    "$4x_1 + 2x_2 + 7x_3 \\leq 6000$\n",
    "<br>\n",
    "$x_1 \\geq 200$\n",
    "<br>\n",
    "$x_2 \\geq 200$\n",
    "<br>\n",
    "$x_3 \\geq 150$\n",
    "<br>\n",
    "$x_1, x_2, x_3 \\in \\Z_{+}$\n",
    "<br>\n",
    "<br>\n",
    "The chosen solver is CPLEX by IBM."
   ]
  },
  {
   "cell_type": "code",
   "execution_count": 11,
   "metadata": {},
   "outputs": [
    {
     "name": "stdout",
     "output_type": "stream",
     "text": [
      "# ==========================================================\n",
      "# = Solver Results                                         =\n",
      "# ==========================================================\n",
      "# ----------------------------------------------------------\n",
      "#   Problem Information\n",
      "# ----------------------------------------------------------\n",
      "Problem: \n",
      "- Name: tmpudm23xfd\n",
      "  Lower bound: 46560.0\n",
      "  Upper bound: 46560.0\n",
      "  Number of objectives: 1\n",
      "  Number of constraints: 6\n",
      "  Number of variables: 4\n",
      "  Number of nonzeros: 10\n",
      "  Sense: maximize\n",
      "# ----------------------------------------------------------\n",
      "#   Solver Information\n",
      "# ----------------------------------------------------------\n",
      "Solver: \n",
      "- Status: ok\n",
      "  User time: 0.0\n",
      "  Termination condition: optimal\n",
      "  Termination message: MIP - Integer optimal solution\\x3a Objective = 4.6560000000e+04\n",
      "  Statistics: \n",
      "    Branch and bound: \n",
      "      Number of bounded subproblems: 0\n",
      "      Number of created subproblems: 0\n",
      "  Error rc: 0\n",
      "  Time: 0.044915199279785156\n",
      "# ----------------------------------------------------------\n",
      "#   Solution Information\n",
      "# ----------------------------------------------------------\n",
      "Solution: \n",
      "- number of solutions: 0\n",
      "  number of solutions displayed: 0\n",
      "Variable x\n",
      "\t 1 1044.0\n",
      "\t 2 387.0\n",
      "\t 3 150.0\n"
     ]
    }
   ],
   "source": [
    "from pyomo.core.base.var import Var\n",
    "import pyomo.environ as pyo\n",
    "\n",
    "model = pyo.ConcreteModel()\n",
    "model.x = pyo.Var([1,2,3], domain=pyo.NonNegativeIntegers)\n",
    "model.objectiveFunction = pyo.Objective(expr = 30*model.x[1] + 20*model.x[2] + 50*model.x[3], sense = pyo.maximize)\n",
    "\n",
    "model.constraint1 = pyo.Constraint(expr = 2*model.x[1] + 3*model.x[2] + 5*model.x[3] <= 4000)\n",
    "model.constraint2 = pyo.Constraint(expr = 4*model.x[1] + 2*model.x[2] + 7*model.x[3] <= 6000)\n",
    "model.constraint3 = pyo.Constraint(expr = model.x[1] >= 200)\n",
    "model.constraint4 = pyo.Constraint(expr = model.x[2] >= 200)\n",
    "model.constraint5 = pyo.Constraint(expr = model.x[3] >= 150)\n",
    "\n",
    "solver = pyo.SolverFactory('cplex')\n",
    "result = solver.solve(model)\n",
    "\n",
    "result.write()\n",
    "model.solutions.load_from(result)\n",
    "\n",
    "for v in model.component_objects(Var, active=True):\n",
    "    print (\"Variable\",v)\n",
    "    varobject = getattr(model, str(v))\n",
    "    for index in varobject:\n",
    "        print (\"\\t\",index, varobject[index].value)\n"
   ]
  },
  {
   "cell_type": "markdown",
   "metadata": {},
   "source": []
  }
 ],
 "metadata": {
  "interpreter": {
   "hash": "7ad151a14bc03a29e9c8b392768a9fe3b288d39ced89c4237a881df884a496bb"
  },
  "kernelspec": {
   "display_name": "Python 3.9.9 64-bit (windows store)",
   "language": "python",
   "name": "python3"
  },
  "language_info": {
   "codemirror_mode": {
    "name": "ipython",
    "version": 3
   },
   "file_extension": ".py",
   "mimetype": "text/x-python",
   "name": "python",
   "nbconvert_exporter": "python",
   "pygments_lexer": "ipython3",
   "version": "3.9.9"
  },
  "orig_nbformat": 4
 },
 "nbformat": 4,
 "nbformat_minor": 2
}
